{
 "cells": [
  {
   "cell_type": "markdown",
   "id": "9b704d53",
   "metadata": {},
   "source": [
    "# Suction Cup State Estimation\n",
    "\n",
    "When a suction cup has a capacitance sensing plate at its base, deflections in the cup cause the time series capacitance data to change. There are eight channels of capacitance data corresponding to the eight rotationally symmetric receive electrodes. \n",
    "\n",
    "We wish to estimate the following cases\n",
    "- The suction cup is properly aligned and will attach to the object correctly.\n",
    "- The suction cup is at an angle to the object and requires some amount of rotation along a particular axis to regain perpendicularity.\n",
    "- The suction cup is at an edge and needs to translate some amount in a particular direction in order to be aligned.\n",
    "- The suction cup is at a corner and needs to translate some amount in a particular direction in order to be aligned.\n",
    "\n",
    "We assume the following\n",
    "- The suction cup and sensing electrodes are rotationally symmetric, and an offset of 45 degrees around the centerline will lead to the identical signals\n",
    "\n",
    "## Current system setbacks\n",
    "\n",
    "Right now, we can only measure one of the receive channels at a time. With the symmetry assumption, we can rotate the actuation to simulate the seven other channels. \n"
   ]
  },
  {
   "cell_type": "code",
   "execution_count": null,
   "id": "ff6d6c4e",
   "metadata": {},
   "outputs": [],
   "source": []
  }
 ],
 "metadata": {
  "language_info": {
   "name": "python"
  }
 },
 "nbformat": 4,
 "nbformat_minor": 5
}
