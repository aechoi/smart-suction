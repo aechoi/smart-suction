{
 "cells": [
  {
   "cell_type": "code",
   "execution_count": null,
   "metadata": {},
   "outputs": [],
   "source": [
    "%matplotlib widget\n",
    "import matplotlib.pyplot as plt\n",
    "import numpy as np\n",
    "import os\n",
    "\n",
    "import capcup.download_drive_data as ddd\n",
    "import capcup.eval_data_formatter as edf\n",
    "\n",
    "plt.style.use(\"bmh\")"
   ]
  },
  {
   "cell_type": "markdown",
   "metadata": {},
   "source": [
    "First we download the data from the google drive folder. The functions in ddd will ensure that the files are downloaded into a folder that will be ignored by git. It will also avoid overwriting data if it already exists locally."
   ]
  },
  {
   "cell_type": "code",
   "execution_count": null,
   "metadata": {},
   "outputs": [],
   "source": [
    "try:\n",
    "    ddd.download_folder(\"https://drive.google.com/drive/folders/1iJHOh6pBJC13yKVfcgykayG_F2aS1bvn?usp=drive_link\")\n",
    "except FileExistsError as e:\n",
    "    print(e)"
   ]
  },
  {
   "cell_type": "markdown",
   "metadata": {},
   "source": [
    "The raw eval software output is then parsed to extract the capacitance data and some header information. The EvalBoardData object hold this information along with some stuff like generating timestamps.\n",
    "\n",
    "The capacitance data is stored as raw ADC counts in decimal. "
   ]
  },
  {
   "cell_type": "code",
   "execution_count": null,
   "metadata": {},
   "outputs": [],
   "source": [
    "data_directory = os.path.join(os.getcwd(), \"data\", \"repeatability_data\")\n",
    "trial_data = edf.format_folder(data_directory)"
   ]
  },
  {
   "cell_type": "code",
   "execution_count": null,
   "metadata": {},
   "outputs": [],
   "source": [
    "cyclic_trials = []\n",
    "reprod_trials = []\n",
    "for trial in trial_data:\n",
    "    if \"S\" in trial.trial_name:\n",
    "        cyclic_trials.append(trial)\n",
    "    if \"R\" in trial.trial_name:\n",
    "        reprod_trials.append(trial)"
   ]
  },
  {
   "cell_type": "markdown",
   "metadata": {},
   "source": [
    "Some trials will involve placing/removing the ground plane. In this case, it's convenient to just have data collection running and have the periods segmented during analysis (fewer files, less stopping and starting). In this case, we'll use the package ruptures which provides offline change point detection. \n",
    "\n",
    "https://github.com/deepcharles/ruptures"
   ]
  },
  {
   "cell_type": "code",
   "execution_count": null,
   "metadata": {},
   "outputs": [],
   "source": [
    "import ruptures as rpt\n",
    "\n",
    "first_trial = cyclic_trials[0]\n",
    "\n",
    "algo = rpt.Pelt(model=\"rbf\").fit(first_trial.cap_counts)\n",
    "change_points = np.array(algo.predict(pen=10))\n",
    "\n",
    "fig, axs = rpt.display(first_trial.cap_counts, [], change_points)\n",
    "axs[0].set_title(\"Change Point Detection Using `ruptures`\")\n",
    "axs[0].set_xlabel(\"Sample\")\n",
    "axs[0].set_ylabel(\"Capacitance Counts\")\n",
    "\n",
    "# This is -1 because it is really marking the end points of the stable regions \n",
    "# between changes. \n",
    "print(f\"Changes Detected: {len(change_points)-1}\")\n",
    "print(change_points)\n",
    "\n",
    "# Using a universal padding seems more stable than using a standard deviation \n",
    "# to define stable regions. Mainly because anomalies can happen in the stable\n",
    "# regions. Although, this would be worth testing. \n",
    "change_padding = 5\n",
    "region_starts = np.r_[0, change_points[:-1] + change_padding]\n",
    "region_ends = change_points - change_padding\n",
    "\n",
    "for start, end in zip(region_starts, region_ends):\n",
    "    axs[0].axvspan(start, end, alpha=0.2)\n",
    "\n",
    "plt.tight_layout()"
   ]
  },
  {
   "cell_type": "markdown",
   "metadata": {},
   "source": [
    "Here's a model proposal. There is a baseline mutual capacitance $C_{tr}$ between transmitter $t$ and the receiver $r$ while the ground plane is at some neutral position. The measurement of this mutual capacitance is some $C_{tr} + w$ where $w \\sim \\mathscr N(0, \\sigma_w)$ and is uncorrelated in time. When placing the ground plane into the scene, the amount of capacitance change is a function of the $(x, y, z)$ coordinate of the ground plane as well as its geometry, $g$. We'll call this change in capacitance $\\Delta C_{tr}(x, y, z, g)$. The measured capacitance after placing the ground plane is then $C_{tr} + \\Delta C_{tr}(x, y, z, g) + w$. \n",
    "\n",
    "Ideally in our tests, we repeat the same translations $(x, y, z)$, but there is error when we move the ground plane. Additionally, it's possible (and perhaps likely) that $w$ is a function of $(x, y, z, g)$ as well. \n",
    "\n",
    "Here's a list of things that may be good to test in no particular order\n",
    "- estimate $\\sigma_w$\n",
    "- check if $w$ is a function of $(x, y, z, g)$\n",
    "- compare $\\Delta C_{tr}$ with different t's, r's, and electrode designs\n",
    "- compare $\\Delta C_{tr} / \\sigma_w$ with different t's, r's, and electrode designs\n",
    "\n",
    "For the rest of the data, we assume a conversion factor of 7.42e-6 fF/count.\n"
   ]
  },
  {
   "cell_type": "code",
   "execution_count": null,
   "metadata": {},
   "outputs": [],
   "source": [
    "def count2ff(counts):\n",
    "    \"\"\"24bit resolution measuring +/- 4.096 pF\"\"\"\n",
    "    zero = 2**23\n",
    "    return (counts - zero)*(4096/zero)\n"
   ]
  },
  {
   "cell_type": "markdown",
   "metadata": {},
   "source": [
    "The first step is to estimate the distribution of $w$ as this will contribute to error propogation when estimating $\\Delta C_{tr}$. For each electrode, three trials were conducted by completely removing the receive probe and reattaching it. Data was collected for 100 samples without any interaction with the test setup. \n",
    "\n",
    "The electrodes are labeled A#. \"A\" for Arc (ie. the receive electrode), and the numbers go from 0 to 3 from the outside in. \n",
    "\n",
    "All plots have been scaled to have the same y-limits."
   ]
  },
  {
   "cell_type": "code",
   "execution_count": null,
   "metadata": {},
   "outputs": [],
   "source": [
    "from collections import defaultdict\n",
    "num_trials = 4\n",
    "fig, axs = plt.subplots(2, 2)\n",
    "\n",
    "smallest_y = np.inf\n",
    "largest_y = -np.inf\n",
    "std_devs = defaultdict(list)\n",
    "for trial in reprod_trials:\n",
    "    electrode = int(trial.trial_name.split(\"_\")[2][1:])\n",
    "    row = electrode // 2\n",
    "    col = electrode % 2\n",
    "\n",
    "    std_devs[electrode].append(np.std(count2ff(trial.cap_counts)))\n",
    "\n",
    "    axs[row, col].plot(trial.time, count2ff(trial.cap_counts))\n",
    "    ylims = axs[row, col].get_ylim()\n",
    "    smallest_y = min(ylims[0], smallest_y)\n",
    "    largest_y = max(ylims[1], largest_y)\n",
    "    axs[row, col].set_title(f\"Electrode A{electrode}\")\n",
    "    axs[row, col].set_xlabel(\"Time (s)\")\n",
    "    axs[row, col].set_ylabel(\"Capacitance (fF)\")\n",
    "\n",
    "\n",
    "for row in axs:\n",
    "    for ax in row:\n",
    "        ax.set_ylim([smallest_y, largest_y])\n",
    "plt.tight_layout()\n",
    "\n",
    "sigma_ws = []\n",
    "for key, item in std_devs.items():\n",
    "    std_dev = np.average(item)\n",
    "    sigma_ws.append(std_dev)\n",
    "    print(f\"Average Standard Deviation for electrode {key}: {std_dev:.4f}fF\")"
   ]
  },
  {
   "cell_type": "markdown",
   "metadata": {},
   "source": [
    "It's possible that the standard deviation for electrodes A0 and A2 are affected by the random spikes which appear in the data. These spikes seem to be caused by continuity interruptions from the fact that everything is just taped together.\n",
    "\n",
    "We'll continue the analysis with the separate standard deviations for the separate electrodes, although the final conclusion should not be taken into consideration due to the measurement issues.\n",
    "\n",
    "<!-- For this notebook, let's assume that $\\sigma_w=0.0315\\text{fF}$. -->"
   ]
  },
  {
   "cell_type": "markdown",
   "metadata": {},
   "source": [
    "Let's now take a look at the capacitance change from introducing the ground plane. \n",
    "\n",
    "For each trial, a box plot of the high measurement, $C_{tr}$, and low measurement, $C_{tr} + \\Delta C_{tr}$, are depicted. That is, the measurement without the ground plane and the measurement with the ground plane. For each segment between the change points, the median value is taken. The box plot is of these median values. This is to avoid a dependence on the duration of the data collection at a particular point. "
   ]
  },
  {
   "cell_type": "code",
   "execution_count": null,
   "metadata": {},
   "outputs": [],
   "source": [
    "change_padding = 5\n",
    "\n",
    "fig, ax = plt.subplots()\n",
    "high_data = []\n",
    "low_data = []\n",
    "trial_labels = []\n",
    "\n",
    "for trial in cyclic_trials:\n",
    "    electrode = trial.trial_name.split(\"_\")[2]\n",
    "    trial_num = trial.trial_name.split(\"_\")[-1][:2]\n",
    "    trial_labels.append(f\"{electrode} {trial_num}\")\n",
    "\n",
    "    algo = rpt.Pelt(model=\"rbf\").fit(trial.cap_counts)\n",
    "    change_points = np.array(algo.predict(pen=10))\n",
    "    region_starts = np.r_[0, change_points[:-1] + change_padding]\n",
    "    region_ends = change_points - change_padding\n",
    "\n",
    "    trial_high_data = []\n",
    "    trial_low_data = []\n",
    "\n",
    "    for idx, (start, end) in enumerate(zip(region_starts, region_ends)):\n",
    "        data_slice = count2ff(trial.cap_counts[start:end])\n",
    "        median = np.median(data_slice)\n",
    "        if idx % 2 == 0:\n",
    "            trial_high_data.append(median)\n",
    "        else:\n",
    "            trial_low_data.append(median)\n",
    "    \n",
    "    high_data.append(np.hstack(trial_high_data))\n",
    "    low_data.append(np.hstack(trial_low_data))\n",
    "    \n",
    "ax.boxplot(high_data, tick_labels=trial_labels)\n",
    "ax.boxplot(low_data, tick_labels=trial_labels)\n",
    "ax.set_title(\"Box Plots of High and Low Capacitance of Changes\")\n",
    "ax.set_xlabel(\"Trial Label\")\n",
    "ax.set_ylabel(\"Capacitance [fF]\")"
   ]
  },
  {
   "cell_type": "code",
   "execution_count": null,
   "metadata": {},
   "outputs": [],
   "source": [
    "# Data is processed this way because it's ragged because I missed a place/pick :)\n",
    "high_data = np.array([np.median(trial) for trial in high_data])\n",
    "low_data = np.array([np.median(trial) for trial in low_data])\n",
    "cap_change = low_data - high_data\n",
    "\n",
    "fig, ax = plt.subplots()\n",
    "ax.bar(trial_labels, cap_change, color=\"b\", alpha=0.5, label=\"Abs Change\")\n",
    "twinx = ax.twinx()\n",
    "twinx.bar(trial_labels, cap_change/np.repeat(sigma_ws, 2), color=\"r\", alpha = 0.5, label=\"SNR\")\n",
    "twinx.grid(False)\n",
    "\n",
    "ax.set_ylabel(\"Capacitance Change, $\\Delta C_{tr}$ [fF]\")\n",
    "twinx.set_ylabel(\"SNR, $\\Delta C_{tr} / \\sigma_w(r)$ [-]\")\n",
    "ax.legend()\n",
    "twinx.legend(loc=2)\n",
    "plt.tight_layout()"
   ]
  },
  {
   "cell_type": "code",
   "execution_count": null,
   "metadata": {},
   "outputs": [],
   "source": []
  }
 ],
 "metadata": {
  "kernelspec": {
   "display_name": "venvWin",
   "language": "python",
   "name": "python3"
  },
  "language_info": {
   "codemirror_mode": {
    "name": "ipython",
    "version": 3
   },
   "file_extension": ".py",
   "mimetype": "text/x-python",
   "name": "python",
   "nbconvert_exporter": "python",
   "pygments_lexer": "ipython3",
   "version": "3.12.3"
  }
 },
 "nbformat": 4,
 "nbformat_minor": 2
}
